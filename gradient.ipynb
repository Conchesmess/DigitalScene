{
 "cells": [
  {
   "cell_type": "markdown",
   "metadata": {},
   "source": [
    "How to make a gradient\n",
    "A gradient is two things\n",
    "1. moving the turtle \n",
    "1. changing the color\n",
    "This is done slowly in a loop"
   ]
  },
  {
   "cell_type": "markdown",
   "metadata": {},
   "source": [
    "The code below will draw a line"
   ]
  },
  {
   "cell_type": "code",
   "execution_count": 1,
   "metadata": {},
   "outputs": [],
   "source": [
    "from turtle import *\n",
    "# Setting colormode to 255 lets you use color as numbers instead of color as strings\n",
    "# heading zero is pointed to the right\n",
    "setheading(0)\n",
    "fd(100)\n",
    "bk(100)\n",
    "\n",
    "done()"
   ]
  },
  {
   "cell_type": "markdown",
   "metadata": {},
   "source": [
    "Now we will draw 10 lines using a loop"
   ]
  },
  {
   "cell_type": "code",
   "execution_count": 3,
   "metadata": {},
   "outputs": [],
   "source": [
    "from turtle import *\n",
    "\n",
    "# setting the x and y coordinates\n",
    "x = 0\n",
    "y = 0\n",
    "\n",
    "# heading zero is pointed to the right\n",
    "setheading(0)\n",
    "\n",
    "for i in range(10):\n",
    "    penup()\n",
    "    goto(x,y)\n",
    "    pendown()\n",
    "    fd(100)\n",
    "    bk(100)\n",
    "    # move the turtle 4 pixels on the y axis\n",
    "    y = y - 4\n",
    "\n",
    "done()\n"
   ]
  },
  {
   "cell_type": "markdown",
   "metadata": {},
   "source": [
    "Now let's make a few small changes to make a square instead of 10 lines\n",
    "1. Make the number of times the loop runs the same as the length of the lines\n",
    "1. increase 'y' by only one pixel on each loop"
   ]
  },
  {
   "cell_type": "code",
   "execution_count": 5,
   "metadata": {},
   "outputs": [],
   "source": [
    "from turtle import *\n",
    "# set the speed to go faster (13 is the fastest)\n",
    "speed(13)\n",
    "\n",
    "# setting the x and y coordinates\n",
    "x = 0\n",
    "y = 0\n",
    "\n",
    "# heading zero is pointed to the right\n",
    "setheading(0)\n",
    "\n",
    "# set the loop to run 100 times\n",
    "for i in range(100):\n",
    "    penup()\n",
    "    goto(x,y)\n",
    "    pendown()\n",
    "    fd(100)\n",
    "    bk(100)\n",
    "    # move the turtle *only* 1 pixel on the y axis so there is no space between the lines\n",
    "    y = y - 1\n",
    "\n",
    "done()"
   ]
  },
  {
   "cell_type": "markdown",
   "metadata": {},
   "source": [
    "Now let's add color <br>\n",
    "and some variables to control the length and the width"
   ]
  },
  {
   "cell_type": "code",
   "execution_count": 7,
   "metadata": {},
   "outputs": [
    {
     "ename": "TurtleGraphicsError",
     "evalue": "bad color sequence: (-1, 0, 0)",
     "output_type": "error",
     "traceback": [
      "\u001b[0;31m---------------------------------------------------------------------------\u001b[0m",
      "\u001b[0;31mTurtleGraphicsError\u001b[0m                       Traceback (most recent call last)",
      "Cell \u001b[0;32mIn[7], line 26\u001b[0m\n\u001b[1;32m     23\u001b[0m \u001b[38;5;66;03m# set the loop to run 100 times\u001b[39;00m\n\u001b[1;32m     24\u001b[0m \u001b[38;5;28;01mfor\u001b[39;00m i \u001b[38;5;129;01min\u001b[39;00m \u001b[38;5;28mrange\u001b[39m(height):\n\u001b[1;32m     25\u001b[0m     \u001b[38;5;66;03m# set the pencolor INSIDE the loop so that if the color changes you will see it\u001b[39;00m\n\u001b[0;32m---> 26\u001b[0m     \u001b[43mpencolor\u001b[49m\u001b[43m(\u001b[49m\u001b[43mr\u001b[49m\u001b[43m,\u001b[49m\u001b[43mg\u001b[49m\u001b[43m,\u001b[49m\u001b[43mb\u001b[49m\u001b[43m)\u001b[49m\n\u001b[1;32m     27\u001b[0m     penup()\n\u001b[1;32m     28\u001b[0m     goto(x,y)\n",
      "File \u001b[0;32m<string>:8\u001b[0m, in \u001b[0;36mpencolor\u001b[0;34m(*args)\u001b[0m\n",
      "File \u001b[0;32m~/anaconda3/envs/turtle/lib/python3.12/turtle.py:2251\u001b[0m, in \u001b[0;36mTPen.pencolor\u001b[0;34m(self, *args)\u001b[0m\n\u001b[1;32m   2222\u001b[0m \u001b[38;5;250m\u001b[39m\u001b[38;5;124;03m\"\"\" Return or set the pencolor.\u001b[39;00m\n\u001b[1;32m   2223\u001b[0m \n\u001b[1;32m   2224\u001b[0m \u001b[38;5;124;03mArguments:\u001b[39;00m\n\u001b[0;32m   (...)\u001b[0m\n\u001b[1;32m   2248\u001b[0m \u001b[38;5;124;03m'#33cc8c'\u001b[39;00m\n\u001b[1;32m   2249\u001b[0m \u001b[38;5;124;03m\"\"\"\u001b[39;00m\n\u001b[1;32m   2250\u001b[0m \u001b[38;5;28;01mif\u001b[39;00m args:\n\u001b[0;32m-> 2251\u001b[0m     color \u001b[38;5;241m=\u001b[39m \u001b[38;5;28;43mself\u001b[39;49m\u001b[38;5;241;43m.\u001b[39;49m\u001b[43m_colorstr\u001b[49m\u001b[43m(\u001b[49m\u001b[43margs\u001b[49m\u001b[43m)\u001b[49m\n\u001b[1;32m   2252\u001b[0m     \u001b[38;5;28;01mif\u001b[39;00m color \u001b[38;5;241m==\u001b[39m \u001b[38;5;28mself\u001b[39m\u001b[38;5;241m.\u001b[39m_pencolor:\n\u001b[1;32m   2253\u001b[0m         \u001b[38;5;28;01mreturn\u001b[39;00m\n",
      "File \u001b[0;32m~/anaconda3/envs/turtle/lib/python3.12/turtle.py:2704\u001b[0m, in \u001b[0;36mRawTurtle._colorstr\u001b[0;34m(self, args)\u001b[0m\n\u001b[1;32m   2703\u001b[0m \u001b[38;5;28;01mdef\u001b[39;00m \u001b[38;5;21m_colorstr\u001b[39m(\u001b[38;5;28mself\u001b[39m, args):\n\u001b[0;32m-> 2704\u001b[0m     \u001b[38;5;28;01mreturn\u001b[39;00m \u001b[38;5;28;43mself\u001b[39;49m\u001b[38;5;241;43m.\u001b[39;49m\u001b[43mscreen\u001b[49m\u001b[38;5;241;43m.\u001b[39;49m\u001b[43m_colorstr\u001b[49m\u001b[43m(\u001b[49m\u001b[43margs\u001b[49m\u001b[43m)\u001b[49m\n",
      "File \u001b[0;32m~/anaconda3/envs/turtle/lib/python3.12/turtle.py:1158\u001b[0m, in \u001b[0;36mTurtleScreen._colorstr\u001b[0;34m(self, color)\u001b[0m\n\u001b[1;32m   1156\u001b[0m     r, g, b \u001b[38;5;241m=\u001b[39m [\u001b[38;5;28mround\u001b[39m(\u001b[38;5;241m255.0\u001b[39m\u001b[38;5;241m*\u001b[39mx) \u001b[38;5;28;01mfor\u001b[39;00m x \u001b[38;5;129;01min\u001b[39;00m (r, g, b)]\n\u001b[1;32m   1157\u001b[0m \u001b[38;5;28;01mif\u001b[39;00m \u001b[38;5;129;01mnot\u001b[39;00m ((\u001b[38;5;241m0\u001b[39m \u001b[38;5;241m<\u001b[39m\u001b[38;5;241m=\u001b[39m r \u001b[38;5;241m<\u001b[39m\u001b[38;5;241m=\u001b[39m \u001b[38;5;241m255\u001b[39m) \u001b[38;5;129;01mand\u001b[39;00m (\u001b[38;5;241m0\u001b[39m \u001b[38;5;241m<\u001b[39m\u001b[38;5;241m=\u001b[39m g \u001b[38;5;241m<\u001b[39m\u001b[38;5;241m=\u001b[39m \u001b[38;5;241m255\u001b[39m) \u001b[38;5;129;01mand\u001b[39;00m (\u001b[38;5;241m0\u001b[39m \u001b[38;5;241m<\u001b[39m\u001b[38;5;241m=\u001b[39m b \u001b[38;5;241m<\u001b[39m\u001b[38;5;241m=\u001b[39m \u001b[38;5;241m255\u001b[39m)):\n\u001b[0;32m-> 1158\u001b[0m     \u001b[38;5;28;01mraise\u001b[39;00m TurtleGraphicsError(\u001b[38;5;124m\"\u001b[39m\u001b[38;5;124mbad color sequence: \u001b[39m\u001b[38;5;132;01m%s\u001b[39;00m\u001b[38;5;124m\"\u001b[39m \u001b[38;5;241m%\u001b[39m \u001b[38;5;28mstr\u001b[39m(color))\n\u001b[1;32m   1159\u001b[0m \u001b[38;5;28;01mreturn\u001b[39;00m \u001b[38;5;124m\"\u001b[39m\u001b[38;5;124m#\u001b[39m\u001b[38;5;132;01m%02x\u001b[39;00m\u001b[38;5;132;01m%02x\u001b[39;00m\u001b[38;5;132;01m%02x\u001b[39;00m\u001b[38;5;124m\"\u001b[39m \u001b[38;5;241m%\u001b[39m (r, g, b)\n",
      "\u001b[0;31mTurtleGraphicsError\u001b[0m: bad color sequence: (-1, 0, 0)"
     ]
    }
   ],
   "source": [
    "from turtle import *\n",
    "# set the speed to go faster (13 is the fastest)\n",
    "speed(13)\n",
    "\n",
    "# setting the x and y coordinates\n",
    "x = 0\n",
    "y = 0\n",
    "\n",
    "# heading zero is pointed to the right\n",
    "setheading(0)\n",
    "\n",
    "# set the color variables to to red\n",
    "# set the colormode to 255 to use integers between 0 and 255 for colors\n",
    "colormode(255)\n",
    "r = 255\n",
    "g = 0\n",
    "b = 0\n",
    "\n",
    "# let's also set some variables to control the width and height\n",
    "width = 300\n",
    "height = 300\n",
    "\n",
    "# set the loop to run 100 times\n",
    "for i in range(height):\n",
    "    # set the pencolor INSIDE the loop so that if the color changes you will see it\n",
    "    pencolor(r,g,b)\n",
    "    penup()\n",
    "    goto(x,y)\n",
    "    pendown()\n",
    "    fd(width)\n",
    "    bk(width)\n",
    "    # move the turtle *only* 1 pixel on the y axis so there is no space between the lines\n",
    "    y = y - 1\n",
    "    # Reduce the amount of red on every loop\n",
    "    r = r - 1\n",
    "\n",
    "done()"
   ]
  },
  {
   "cell_type": "markdown",
   "metadata": {},
   "source": [
    "The code above caused an error.  <br>\n",
    "\n",
    "<code>TurtleGraphicsError: bad color sequence: (-1, 0, 0) <br>\n",
    "\n",
    "As you can see in the error, the red value went below 0.  Color values can't go below 0 or above 255.  Let's fix that."
   ]
  },
  {
   "cell_type": "code",
   "execution_count": 9,
   "metadata": {},
   "outputs": [],
   "source": [
    "from turtle import *\n",
    "# set the speed to go faster (13 is the fastest)\n",
    "speed(13)\n",
    "\n",
    "# setting the x and y coordinates\n",
    "x = 0\n",
    "y = 0\n",
    "\n",
    "# heading zero is pointed to the right\n",
    "setheading(0)\n",
    "\n",
    "# set the color variables to to red\n",
    "# set the colormode to 255 to use integers between 0 and 255 for colors\n",
    "colormode(255)\n",
    "r = 255\n",
    "g = 0\n",
    "b = 0\n",
    "\n",
    "# let's also set some variables to control the width and height\n",
    "width = 300\n",
    "height = 300\n",
    "\n",
    "# set the loop to run 100 times\n",
    "for i in range(height):\n",
    "    # set the pencolor INSIDE the loop so that if the color changes you will see it\n",
    "    pencolor(r,g,b)\n",
    "    penup()\n",
    "    goto(x,y)\n",
    "    pendown()\n",
    "    fd(width)\n",
    "    bk(width)\n",
    "    # move the turtle *only* 1 pixel on the y axis so there is no space between the lines\n",
    "    y = y - 1\n",
    "    # Reduce the amount of red on every loop\n",
    "    r = r - 1\n",
    "    # Do not let red get below 0\n",
    "    if r < 0:\n",
    "        r = 0\n",
    "\n",
    "done()"
   ]
  },
  {
   "cell_type": "markdown",
   "metadata": {},
   "source": [
    "OK, now let's do something more interesting. Let's make a sunset.\n",
    "yellow is (255,255,0)\n",
    "magenta is (255,0,255)"
   ]
  },
  {
   "cell_type": "code",
   "execution_count": 11,
   "metadata": {},
   "outputs": [],
   "source": [
    "from turtle import *\n",
    "# set the speed to go faster (13 is the fastest)\n",
    "speed(13)\n",
    "\n",
    "# setting the x and y coordinates\n",
    "x = 0\n",
    "y = 0\n",
    "\n",
    "# heading zero is pointed to the right\n",
    "setheading(0)\n",
    "\n",
    "# set the color variables to yellow\n",
    "# set the colormode to 255 to use integers between 0 and 255 for colors\n",
    "colormode(255)\n",
    "# we want red to stay the same\n",
    "r = 255\n",
    "# we want green to go to zero\n",
    "g = 255\n",
    "# we want blue to go to 255\n",
    "b = 0\n",
    "\n",
    "# let's also set some variables to control the width and height\n",
    "width = 300\n",
    "height = 300\n",
    "\n",
    "# set the loop to run 100 times\n",
    "for i in range(height):\n",
    "    # set the pencolor INSIDE the loop so that if the color changes you will see it\n",
    "    pencolor(r,g,b)\n",
    "    penup()\n",
    "    goto(x,y)\n",
    "    pendown()\n",
    "    fd(width)\n",
    "    bk(width)\n",
    "    # move the turtle *only* 1 pixel on the y axis so there is no space between the lines\n",
    "    y = y - 1\n",
    "    # Reduce the amount of green on every loop\n",
    "    g = g - 1\n",
    "    # Do not let green get below 0\n",
    "    if g < 0:\n",
    "        g = 0\n",
    "    b = b + 1\n",
    "    # do not let blue get above 255\n",
    "    if b > 255:\n",
    "        b = 255\n",
    "\n",
    "done()"
   ]
  },
  {
   "cell_type": "markdown",
   "metadata": {},
   "source": [
    "Finally, let's turn this into a function"
   ]
  },
  {
   "cell_type": "code",
   "execution_count": 15,
   "metadata": {},
   "outputs": [],
   "source": [
    "from turtle import *\n",
    "# set the speed to go faster (13 is the fastest)\n",
    "speed(13)\n",
    "\n",
    "# Set the screen size\n",
    "WIDTH = 1000\n",
    "HEIGHT = 800\n",
    "screen = Screen()\n",
    "screen.setup(WIDTH, HEIGHT)\n",
    "\n",
    "\n",
    "def gradient(x,y,width,height):\n",
    "\n",
    "    # heading zero is pointed to the right\n",
    "    setheading(0)\n",
    "\n",
    "    # set the color variables to yellow\n",
    "    # set the colormode to 255 to use integers between 0 and 255 for colors\n",
    "    colormode(255)\n",
    "    # we want red to stay the same\n",
    "    r = 255\n",
    "    # we want green to go to zero\n",
    "    g = 255\n",
    "    # we want blue to go to 255\n",
    "    b = 0\n",
    "\n",
    "    # set the loop to run 100 times\n",
    "    for i in range(height):\n",
    "        # set the pencolor INSIDE the loop so that if the color changes you will see it\n",
    "        pencolor(r,g,b)\n",
    "        penup()\n",
    "        goto(x,y)\n",
    "        pendown()\n",
    "        fd(width)\n",
    "        bk(width)\n",
    "        # move the turtle *only* 1 pixel on the y axis so there is no space between the lines\n",
    "        y = y - 1\n",
    "        # Reduce the amount of green on every loop\n",
    "        g = g - 1\n",
    "        # Do not let green get below 0\n",
    "        if g < 0:\n",
    "            g = 0\n",
    "        b = b + 1\n",
    "        # do not let blue get above 255\n",
    "        if b > 255:\n",
    "            b = 255\n",
    "\n",
    "gradient(-500,400,1000,255)\n",
    "\n",
    "done()"
   ]
  }
 ],
 "metadata": {
  "kernelspec": {
   "display_name": "turtle",
   "language": "python",
   "name": "python3"
  },
  "language_info": {
   "codemirror_mode": {
    "name": "ipython",
    "version": 3
   },
   "file_extension": ".py",
   "mimetype": "text/x-python",
   "name": "python",
   "nbconvert_exporter": "python",
   "pygments_lexer": "ipython3",
   "version": "3.12.5"
  }
 },
 "nbformat": 4,
 "nbformat_minor": 2
}
